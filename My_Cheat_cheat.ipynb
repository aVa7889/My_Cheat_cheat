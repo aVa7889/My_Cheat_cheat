{
 "cells": [
  {
   "cell_type": "code",
   "execution_count": null,
   "metadata": {},
   "outputs": [],
   "source": [
    "# Mt_Cheat_cheat\n"
   ]
  },
  {
   "cell_type": "code",
   "execution_count": null,
   "metadata": {},
   "outputs": [],
   "source": [
    "# Searching for p_values less than 0.05\n",
    "select_cols = p_values.loc[p_values < 0.05]"
   ]
  },
  {
   "cell_type": "code",
   "execution_count": null,
   "metadata": {},
   "outputs": [],
   "source": [
    "# Update the values in a panda column\n",
    "\n",
    "df['column_name'] = df['column_name'].apply(lambda x: new_value if condition else x)\n",
    "\n",
    "mapping_dict = {old_value: new_value}\n",
    "df['column_name'] = df['column_name'].map(mapping_dict)\n",
    "\n",
    "df = df.assign(column_name=new_values)\n",
    "\n",
    "df['column_name'] = df['column_name'].replace(to_replace, new_value)\n",
    "\n",
    "df.loc[df['column_name'] == some_condition, 'column_name'] = new_value\n",
    "\n",
    "df['column_name'] = new_values\n"
   ]
  },
  {
   "cell_type": "code",
   "execution_count": null,
   "metadata": {},
   "outputs": [],
   "source": [
    "# sum of null values in each column\n",
    "X_train.isna().sum()\n"
   ]
  },
  {
   "cell_type": "code",
   "execution_count": null,
   "metadata": {},
   "outputs": [],
   "source": [
    "\n",
    "# Fill NA with 0\n",
    "df['pledged'] = df['pledged'].fillna(0)"
   ]
  },
  {
   "cell_type": "code",
   "execution_count": null,
   "metadata": {},
   "outputs": [],
   "source": [
    "# Searching for a mean of ('days_active value >= 6 AND <= 12 in 'backers_count')\n",
    "mean_of_week_2_backers_counts = X_train.loc[(X_train['days_active'] >= 6) & (X_train['days_active'] <= 13), 'backers_count'].mean()\n"
   ]
  },
  {
   "cell_type": "code",
   "execution_count": null,
   "metadata": {},
   "outputs": [],
   "source": [
    "# List all numeric columns\n",
    "df = df.select_dtypes(include='number')\n"
   ]
  },
  {
   "cell_type": "code",
   "execution_count": null,
   "metadata": {},
   "outputs": [],
   "source": [
    "#Convert y to numeric\n",
    "df_clean['y'] = pd.get_dummies(df_clean['y'], drop_first = True, dtype=int)"
   ]
  },
  {
   "cell_type": "code",
   "execution_count": null,
   "metadata": {},
   "outputs": [],
   "source": [
    "# OneHotEncoder\n",
    "ohe = OneHotEncoder(handle_unknown='ignore', sparse_output=False, dtype='int')\n",
    "X_train_encoded = pd.DataFrame(data=ohe.fit_transform(X_train), columns=ohe.get_feature_names_out())\n",
    "X_test_encoded = pd.DataFrame(data=ohe.transform(X_test), columns=ohe.get_feature_names_out())\n"
   ]
  },
  {
   "cell_type": "code",
   "execution_count": null,
   "metadata": {},
   "outputs": [],
   "source": [
    "# Fix the columns using the Pandas replace() method\n",
    "car_data[[\"num-of-doors\",\"num-of-cylinders\"]] = car_data[[\"num-of-doors\",\"num-of-cylinders\"]].replace(str_to_int, regex=False)\n",
    "car_data\n"
   ]
  },
  {
   "cell_type": "code",
   "execution_count": null,
   "metadata": {},
   "outputs": [],
   "source": [
    "#Converts String to Int using a dic\n",
    "str_to_int = {\"eight\": 8, \n",
    "              \"five\": 5,\n",
    "              \"four\": 4,\n",
    "              \"six\": 6,\n",
    "              \"three\": 3,\n",
    "              \"twelve\": 12,\n",
    "              \"two\": 2}"
   ]
  }
 ],
 "metadata": {
  "language_info": {
   "name": "python"
  }
 },
 "nbformat": 4,
 "nbformat_minor": 2
}
