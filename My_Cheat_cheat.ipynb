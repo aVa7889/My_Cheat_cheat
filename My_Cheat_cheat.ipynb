{
 "cells": [
  {
   "cell_type": "code",
   "execution_count": null,
   "metadata": {},
   "outputs": [],
   "source": [
    "# Mt_Cheat_cheat\n"
   ]
  },
  {
   "cell_type": "code",
   "execution_count": null,
   "metadata": {},
   "outputs": [],
   "source": [
    "# Searching for p_values less than 0.05\n",
    "select_cols = p_values.loc[p_values < 0.05]"
   ]
  },
  {
   "cell_type": "code",
   "execution_count": null,
   "metadata": {},
   "outputs": [],
   "source": [
    "# Update the values in a panda column\n",
    "\n",
    "df['column_name'] = df['column_name'].apply(lambda x: new_value if condition else x)\n",
    "\n",
    "mapping_dict = {old_value: new_value}\n",
    "df['column_name'] = df['column_name'].map(mapping_dict)\n",
    "\n",
    "df = df.assign(column_name=new_values)\n",
    "\n",
    "df['column_name'] = df['column_name'].replace(to_replace, new_value)\n",
    "\n",
    "df.loc[df['column_name'] == some_condition, 'column_name'] = new_value\n",
    "\n",
    "df['column_name'] = new_values\n"
   ]
  },
  {
   "cell_type": "code",
   "execution_count": null,
   "metadata": {},
   "outputs": [],
   "source": [
    "# sum of null values in each column\n",
    "X_train.isna().sum()\n"
   ]
  },
  {
   "cell_type": "code",
   "execution_count": null,
   "metadata": {},
   "outputs": [],
   "source": [
    "\n",
    "# Fill NA with 0\n",
    "df['pledged'] = df['pledged'].fillna(0)"
   ]
  },
  {
   "cell_type": "code",
   "execution_count": null,
   "metadata": {},
   "outputs": [],
   "source": [
    "# Searching for a mean of ('days_active value >= 6 AND <= 12 in 'backers_count')\n",
    "mean_of_week_2_backers_counts = X_train.loc[(X_train['days_active'] >= 6) & (X_train['days_active'] <= 13), 'backers_count'].mean()\n"
   ]
  },
  {
   "cell_type": "code",
   "execution_count": null,
   "metadata": {},
   "outputs": [],
   "source": [
    "# List all numeric columns\n",
    "df = df.select_dtypes(include='number')\n"
   ]
  },
  {
   "cell_type": "code",
   "execution_count": null,
   "metadata": {},
   "outputs": [],
   "source": [
    "#Convert y to numeric\n",
    "df_clean['y'] = pd.get_dummies(df_clean['y'], drop_first = True, dtype=int)"
   ]
  },
  {
   "cell_type": "code",
   "execution_count": null,
   "metadata": {},
   "outputs": [],
   "source": [
    "# OneHotEncoder\n",
    "ohe = OneHotEncoder(handle_unknown='ignore', sparse_output=False, dtype='int')\n",
    "X_train_encoded = pd.DataFrame(data=ohe.fit_transform(X_train), columns=ohe.get_feature_names_out())\n",
    "X_test_encoded = pd.DataFrame(data=ohe.transform(X_test), columns=ohe.get_feature_names_out())\n"
   ]
  },
  {
   "cell_type": "code",
   "execution_count": null,
   "metadata": {},
   "outputs": [],
   "source": [
    "# Fix the columns using the Pandas replace() method\n",
    "car_data[[\"num-of-doors\",\"num-of-cylinders\"]] = car_data[[\"num-of-doors\",\"num-of-cylinders\"]].replace(str_to_int, regex=False)\n",
    "car_data\n"
   ]
  },
  {
   "cell_type": "code",
   "execution_count": null,
   "metadata": {},
   "outputs": [],
   "source": [
    "#Converts String to Int using a dic\n",
    "str_to_int = {\"eight\": 8, \n",
    "              \"five\": 5,\n",
    "              \"four\": 4,\n",
    "              \"six\": 6,\n",
    "              \"three\": 3,\n",
    "              \"twelve\": 12,\n",
    "              \"two\": 2}"
   ]
  },
  {
   "cell_type": "code",
   "execution_count": null,
   "metadata": {},
   "outputs": [],
   "source": [
    "# Remove duplicates on user_id and movie_id, keeping the last row\n",
    "ratings_df = ratings_df.drop_duplicates(subset=[\"user_id\", \"movie_id\"], keep=\"last\")"
   ]
  },
  {
   "cell_type": "code",
   "execution_count": null,
   "metadata": {},
   "outputs": [],
   "source": [
    "df = df.fillna(0)"
   ]
  },
  {
   "cell_type": "code",
   "execution_count": null,
   "metadata": {},
   "outputs": [],
   "source": [
    "# Convert recommendation to DataFrame\n",
    "\n",
    "rec_df = pd.DataFrame({\"movie_id\": ratings_matrix.columns, \"user_id\": test_user})\n",
    "rec_df = rec_df.assign(RecommendationScore = recommendation[0])\n",
    "# Sort recommendations\n",
    "rec_df.sort_values([\"RecommendationScore\"], ascending=False).head(20)"
   ]
  },
  {
   "cell_type": "code",
   "execution_count": null,
   "metadata": {},
   "outputs": [],
   "source": [
    "# Using only one pair of parentheses like img.resize(128, 120) would result in an error because \n",
    "# resize expects one argument of type tuple, not two separate integer arguments.\n",
    "\n",
    "\n",
    "img.resize((128, 120))"
   ]
  },
  {
   "cell_type": "code",
   "execution_count": null,
   "metadata": {},
   "outputs": [],
   "source": [
    "# you need double brackets around \"quality\" in the expression df[['quality']] because fit_transform() expects a 2D array or \n",
    "# a DataFrame as input. Using double brackets returns a DataFrame, while using a single bracket would return a Series.\n",
    "\n",
    "# Single bracket (df['quality']): This returns a pandas Series. A Series is a 1D array-like structure.\n",
    "# Double bracket (df[['quality']]): This returns a pandas DataFrame. A DataFrame is a 2D structure, which is what most \n",
    "# scikit-learn methods, like fit_transform(), expect as input."
   ]
  },
  {
   "cell_type": "code",
   "execution_count": null,
   "metadata": {},
   "outputs": [],
   "source": [
    "# Preprocess \"color\" column (label encoding for binary; one-hot encoding for multiple categories)\n",
    "# Double bracket (df[['quality']]) => OneHotEncoder\n",
    "# Single bracket (df['quality']) => LabelEncoder"
   ]
  },
  {
   "cell_type": "code",
   "execution_count": null,
   "metadata": {},
   "outputs": [],
   "source": [
    "# Convolutional Neural Networks (CNNs) are widely used in various applications, particularly in tasks that involve visual data. \n",
    "# Here are some of the most common applications:\n",
    "\n",
    "# Image Classification: CNNs are extensively used to classify images into different categories. For example, identifying \n",
    "# objects like cats, dogs, cars, etc., in images.\n",
    "\n",
    "# Object Detection: CNNs are used to detect objects within an image, not just classifying the whole image but identifying and \n",
    "# locating multiple objects within the image.\n",
    "\n",
    "# Image Segmentation: This involves partitioning an image into segments or regions based on the characteristics of pixels. \n",
    "# CNNs help in tasks like semantic segmentation where each pixel is classified into a category.\n",
    "\n",
    "# Facial Recognition: CNNs power facial recognition systems by extracting features from images and matching them with a database \n",
    "# of known faces.\n",
    "\n",
    "# Medical Image Analysis: CNNs are employed in analyzing medical images, such as X-rays, MRIs, and CT scans, for detecting \n",
    "# diseases, segmenting tissues, or identifying abnormalities.\n",
    "\n",
    "# Autonomous Vehicles: CNNs are used in self-driving cars to recognize and understand their surroundings, including detecting \n",
    "# other vehicles, pedestrians, and traffic signs.\n",
    "\n",
    "# Video Analysis: CNNs are used to analyze video data, such as action recognition, object tracking, and scene understanding.\n",
    "\n",
    "# Natural Language Processing (NLP): CNNs are also applied in NLP tasks like sentence classification, sentiment analysis, and \n",
    "# text generation, although they are more commonly associated with image-related tasks.\n",
    "\n",
    "# Art Generation: CNNs are used in generating artistic content, such as style transfer, where the style of one image is applied \n",
    "# to the content of another.\n",
    "\n",
    "# Super-Resolution: CNNs are used to enhance the resolution of images, making them clearer and more detailed.\n",
    "\n",
    "# These applications showcase the versatility of CNNs, especially in handling complex data like images and videos."
   ]
  },
  {
   "cell_type": "code",
   "execution_count": null,
   "metadata": {},
   "outputs": [],
   "source": []
  }
 ],
 "metadata": {
  "language_info": {
   "name": "python"
  }
 },
 "nbformat": 4,
 "nbformat_minor": 2
}
